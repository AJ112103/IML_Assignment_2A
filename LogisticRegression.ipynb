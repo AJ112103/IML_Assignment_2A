{
  "nbformat": 4,
  "nbformat_minor": 0,
  "metadata": {
    "colab": {
      "provenance": [],
      "gpuType": "T4",
      "authorship_tag": "ABX9TyPmFPzZMh9JoU//Og1gz8Sm",
      "include_colab_link": true
    },
    "kernelspec": {
      "name": "python3",
      "display_name": "Python 3"
    },
    "language_info": {
      "name": "python"
    },
    "accelerator": "GPU"
  },
  "cells": [
    {
      "cell_type": "markdown",
      "metadata": {
        "id": "view-in-github",
        "colab_type": "text"
      },
      "source": [
        "<a href=\"https://colab.research.google.com/github/AJ112103/IML_Assignment_2A/blob/main/LogisticRegression.ipynb\" target=\"_parent\"><img src=\"https://colab.research.google.com/assets/colab-badge.svg\" alt=\"Open In Colab\"/></a>"
      ]
    },
    {
      "cell_type": "code",
      "execution_count": null,
      "metadata": {
        "id": "MTYtWUnSvORb"
      },
      "outputs": [],
      "source": [
        "import torch\n",
        "import torch.nn as nn\n",
        "import torch.optim as optim\n",
        "import torchvision\n",
        "import torchvision.transforms as transforms"
      ]
    },
    {
      "cell_type": "code",
      "source": [
        "transform = transforms.Compose(\n",
        "    [transforms.ToTensor(),\n",
        "     transforms.Normalize((0.5, 0.5, 0.5), (0.5, 0.5, 0.5))\n",
        "])"
      ],
      "metadata": {
        "id": "FXNtWIkdxbLK"
      },
      "execution_count": null,
      "outputs": []
    },
    {
      "cell_type": "code",
      "source": [
        "trainset = torchvision.datasets.CIFAR10(root='./data', train=True,\n",
        "                                        download=True, transform=transform)\n",
        "testset  = torchvision.datasets.CIFAR10(root='./data', train=False,\n",
        "                                        download=True, transform=transform)\n",
        "trainloader = torch.utils.data.DataLoader(trainset, batch_size=128, shuffle=True)\n",
        "testloader  = torch.utils.data.DataLoader(testset,  batch_size=256, shuffle=False)\n",
        "\n",
        "# Device\n",
        "device = torch.device('cuda' if torch.cuda.is_available() else 'cpu')"
      ],
      "metadata": {
        "colab": {
          "base_uri": "https://localhost:8080/"
        },
        "id": "rANR0hz6yB7X",
        "outputId": "40283da3-61c7-4e08-e139-fcc41f6a4100"
      },
      "execution_count": null,
      "outputs": [
        {
          "output_type": "stream",
          "name": "stderr",
          "text": [
            "100%|██████████| 170M/170M [00:06<00:00, 24.9MB/s]\n"
          ]
        }
      ]
    },
    {
      "cell_type": "code",
      "source": [
        "class LogisticRegressionCIFAR(nn.Module):\n",
        "  def __init__(self):\n",
        "    super().__init__()\n",
        "    self.fc = nn.Linear(3*32*32, 10)\n",
        "\n",
        "  def forward(self, x):\n",
        "    x = x.view(x.size(0), -1)\n",
        "    return self.fc(x)\n",
        "\n",
        "model = LogisticRegressionCIFAR().to(device)"
      ],
      "metadata": {
        "id": "rW8IHHKUySKb"
      },
      "execution_count": null,
      "outputs": []
    },
    {
      "cell_type": "markdown",
      "source": [],
      "metadata": {
        "id": "LCcb7A3gyBfv"
      }
    },
    {
      "cell_type": "code",
      "source": [
        "lr = 0.01\n",
        "epochs = 10\n",
        "criterion = nn.CrossEntropyLoss()\n",
        "optimizer = optim.SGD(model.parameters(), lr=lr)"
      ],
      "metadata": {
        "id": "9oa1ikaSz2jB"
      },
      "execution_count": null,
      "outputs": []
    },
    {
      "cell_type": "markdown",
      "source": [],
      "metadata": {
        "id": "OBUhA3drz2Oj"
      }
    },
    {
      "cell_type": "code",
      "source": [
        "train_acc_history = []\n",
        "test_acc_history = []\n",
        "\n",
        "for epoch in range(epochs):\n",
        "\n",
        "  model.train()\n",
        "  correct = total = 0\n",
        "  for inputs, labels in trainloader:\n",
        "    inputs, labels = inputs.to(device), labels.to(device)\n",
        "    optimizer.zero_grad()\n",
        "    outputs = model(inputs)\n",
        "    loss = criterion(outputs, labels)\n",
        "    loss.backward()\n",
        "    optimizer.step()\n",
        "    _, preds = outputs.max(1)\n",
        "    correct += (preds++labels).sum().item()\n",
        "    total += labels.size(0)\n",
        "  train_acc = correct/total\n",
        "  train_acc_history.append(train_acc)\n",
        "\n",
        "  model.eval()\n",
        "  correct = total = 0\n",
        "  with torch.no_grad():\n",
        "    for inputs, labels in testloader:\n",
        "      inputs, labels = inputs.to(device), labels.to(device)\n",
        "      outputs = model(inputs)\n",
        "      _, preds = outputs.max(1)\n",
        "      correct += (preds == labels).sum().item()\n",
        "      total += labels.size(0)\n",
        "  test_acc = correct/total\n",
        "  test_acc_history.append(test_acc)\n",
        "\n",
        "  print(f'Epoch {epoch+1}/{epochs}, Train Acc: {train_acc:.4f}, Test Acc: {test_acc:.4f}')"
      ],
      "metadata": {
        "colab": {
          "base_uri": "https://localhost:8080/"
        },
        "id": "ArWbYSozz_8M",
        "outputId": "eadab434-4c19-4a15-901b-c4ce9e300066"
      },
      "execution_count": null,
      "outputs": [
        {
          "output_type": "stream",
          "name": "stdout",
          "text": [
            "Epoch 1/10, Train Acc: 9.5869, Test Acc: 0.3853\n",
            "Epoch 2/10, Train Acc: 9.3693, Test Acc: 0.3943\n",
            "Epoch 3/10, Train Acc: 9.3317, Test Acc: 0.3974\n",
            "Epoch 4/10, Train Acc: 9.2739, Test Acc: 0.3972\n",
            "Epoch 5/10, Train Acc: 9.2576, Test Acc: 0.4058\n",
            "Epoch 6/10, Train Acc: 9.2284, Test Acc: 0.4065\n",
            "Epoch 7/10, Train Acc: 9.2018, Test Acc: 0.4082\n",
            "Epoch 8/10, Train Acc: 9.1882, Test Acc: 0.4049\n",
            "Epoch 9/10, Train Acc: 9.1762, Test Acc: 0.4073\n",
            "Epoch 10/10, Train Acc: 9.1512, Test Acc: 0.4081\n"
          ]
        }
      ]
    },
    {
      "cell_type": "code",
      "source": [
        "import matplotlib.pyplot as plt\n",
        "\n",
        "plt.plot(range(1, epochs+1), train_acc_history, label='Train Acc')\n",
        "plt.plot(range(1, epochs+1), test_acc_history,  label='Test Acc')\n",
        "plt.xlabel('Epoch'); plt.ylabel('Accuracy'); plt.legend()\n",
        "plt.title('Logistic Regression on CIFAR-10')\n",
        "plt.show()"
      ],
      "metadata": {
        "id": "6KpyEFYE3hs3",
        "outputId": "9ed81537-0b0a-4da6-e434-5b3736ff3e05",
        "colab": {
          "base_uri": "https://localhost:8080/",
          "height": 472
        }
      },
      "execution_count": null,
      "outputs": [
        {
          "output_type": "display_data",
          "data": {
            "text/plain": [
              "<Figure size 640x480 with 1 Axes>"
            ],
            "image/png": "[encoded data removed]"
          },
          "metadata": {}
        }
      ]
    },
    {
      "cell_type": "markdown",
      "source": [],
      "metadata": {
        "id": "MH5gxhsB3heU"
      }
    }
  ]
}