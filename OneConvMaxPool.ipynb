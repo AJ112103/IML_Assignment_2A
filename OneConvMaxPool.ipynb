{
  "nbformat": 4,
  "nbformat_minor": 0,
  "metadata": {
    "colab": {
      "provenance": [],
      "gpuType": "T4",
      "authorship_tag": "ABX9TyNSohRYE1834IszAXIZIlui",
      "include_colab_link": true
    },
    "kernelspec": {
      "name": "python3",
      "display_name": "Python 3"
    },
    "language_info": {
      "name": "python"
    },
    "accelerator": "GPU"
  },
  "cells": [
    {
      "cell_type": "markdown",
      "metadata": {
        "id": "view-in-github",
        "colab_type": "text"
      },
      "source": [
        "<a href=\"https://colab.research.google.com/github/AJ112103/IML_Assignment_2A/blob/main/OneConvMaxPool.ipynb\" target=\"_parent\"><img src=\"https://colab.research.google.com/assets/colab-badge.svg\" alt=\"Open In Colab\"/></a>"
      ]
    },
    {
      "cell_type": "code",
      "execution_count": 10,
      "metadata": {
        "id": "2AR7IuDs_xYj"
      },
      "outputs": [],
      "source": [
        "import torch\n",
        "import torch.nn as nn\n",
        "import torch.optim as optim\n",
        "import torchvision\n",
        "import torchvision.transforms as transforms\n",
        "import matplotlib.pyplot as plt\n",
        "\n",
        "device = torch.device('cuda' if torch.cuda.is_available() else 'cpu')\n",
        "\n",
        "transform = transforms.Compose([\n",
        "    transforms.RandomCrop(32, padding=4),\n",
        "    transforms.RandomHorizontalFlip(),\n",
        "    transforms.RandomRotation(15),\n",
        "    transforms.ColorJitter(brightness=0.2, contrast=0.2, saturation=0.2),\n",
        "    transforms.ToTensor(),\n",
        "    transforms.Normalize(\n",
        "        (0.4914, 0.4822, 0.4465),\n",
        "        (0.2470, 0.2435, 0.2616)\n",
        "    ),\n",
        "])\n",
        "trainloader = torch.utils.data.DataLoader(\n",
        "    torchvision.datasets.CIFAR10('./data', train=True,  download=True, transform=transform),\n",
        "    batch_size=128, shuffle=True, num_workers=4\n",
        ")\n",
        "testloader = torch.utils.data.DataLoader(\n",
        "    torchvision.datasets.CIFAR10('./data', train=False, download=True,\n",
        "                                transform=transforms.Compose([\n",
        "                                    transforms.ToTensor(),\n",
        "                                    transforms.Normalize((0.4914,0.4822,0.4465),\n",
        "                                                         (0.2470,0.2435,0.2616))\n",
        "                                ])),\n",
        "    batch_size=256, shuffle=False, num_workers=2\n",
        ")\n"
      ]
    },
    {
      "cell_type": "code",
      "source": [
        "class ConvPoolCIFAR(nn.Module):\n",
        "    def __init__(self, num_filters=128, kernel_size=5, pool_size=4):\n",
        "        super().__init__()\n",
        "        self.conv1   = nn.Conv2d(3, num_filters//2, kernel_size, padding=kernel_size//2)\n",
        "        self.conv2   = nn.Conv2d(num_filters//2, num_filters, kernel_size, padding=kernel_size//2)\n",
        "        self.relu    = nn.ReLU(inplace=True)\n",
        "        self.pool    = nn.MaxPool2d(pool_size)\n",
        "        self.dropout = nn.Dropout(0.3)\n",
        "        fc_in = num_filters * (32 // pool_size) ** 2\n",
        "        self.fc      = nn.Linear(fc_in, 10)\n",
        "\n",
        "    def forward(self, x):\n",
        "        x = self.relu(self.conv1(x))\n",
        "        x = self.relu(self.conv2(x))\n",
        "        x = self.pool(x)\n",
        "        x = x.view(x.size(0), -1)\n",
        "        x = self.dropout(x)\n",
        "        return self.fc(x)\n",
        "\n",
        "model = ConvPoolCIFAR(num_filters=128, kernel_size=3, pool_size=4).to(device)"
      ],
      "metadata": {
        "id": "uxf-HmZsAJzS"
      },
      "execution_count": 11,
      "outputs": []
    },
    {
      "cell_type": "code",
      "source": [
        "lr = 0.05\n",
        "epochs = 60\n",
        "criterion = nn.CrossEntropyLoss()\n",
        "optimizer = optim.SGD(\n",
        "    model.parameters(),\n",
        "    lr=lr,\n",
        "    momentum=0.9,\n",
        "    weight_decay=1e-4\n",
        ")\n",
        "scheduler = optim.lr_scheduler.StepLR(\n",
        "    optimizer,\n",
        "    step_size=20,\n",
        "    gamma=0.5\n",
        ")"
      ],
      "metadata": {
        "id": "O029iOOHASI2"
      },
      "execution_count": 12,
      "outputs": []
    },
    {
      "cell_type": "code",
      "source": [
        "best_test = 0.0\n",
        "for epoch in range(1, epochs+1):\n",
        "    # train\n",
        "    model.train()\n",
        "    correct = total = 0\n",
        "    for x,y in trainloader:\n",
        "        x,y = x.to(device), y.to(device)\n",
        "        optimizer.zero_grad()\n",
        "        out = model(x)\n",
        "        loss = criterion(out, y)\n",
        "        loss.backward()\n",
        "        optimizer.step()\n",
        "        preds = out.argmax(dim=1)\n",
        "        correct += (preds==y).sum().item()\n",
        "        total   += y.size(0)\n",
        "    train_acc = correct/total\n",
        "\n",
        "    # eval\n",
        "    model.eval()\n",
        "    correct = total = 0\n",
        "    with torch.no_grad():\n",
        "        for x,y in testloader:\n",
        "            x,y = x.to(device), y.to(device)\n",
        "            preds = model(x).argmax(dim=1)\n",
        "            correct += (preds==y).sum().item()\n",
        "            total   += y.size(0)\n",
        "    test_acc = correct/total\n",
        "    best_test = max(best_test, test_acc)\n",
        "\n",
        "    scheduler.step()\n",
        "    print(f\"Epoch {epoch}/{epochs} — \"\n",
        "          f\"Train {train_acc*100:.2f}%, \"\n",
        "          f\"Test {test_acc*100:.2f}%, \"\n",
        "          f\"Best {best_test*100:.2f}%\")"
      ],
      "metadata": {
        "colab": {
          "base_uri": "https://localhost:8080/"
        },
        "id": "DmjPitydAdHt",
        "outputId": "4b098fad-e43b-40ef-f9fe-a09a8b36f343"
      },
      "execution_count": 13,
      "outputs": [
        {
          "output_type": "stream",
          "name": "stdout",
          "text": [
            "Epoch 1/60 — Train 39.36%, Test 53.19%, Best 53.19%\n",
            "Epoch 2/60 — Train 48.13%, Test 57.08%, Best 57.08%\n",
            "Epoch 3/60 — Train 50.44%, Test 59.02%, Best 59.02%\n",
            "Epoch 4/60 — Train 52.21%, Test 61.07%, Best 61.07%\n",
            "Epoch 5/60 — Train 53.51%, Test 61.23%, Best 61.23%\n",
            "Epoch 6/60 — Train 54.37%, Test 64.78%, Best 64.78%\n",
            "Epoch 7/60 — Train 55.25%, Test 64.61%, Best 64.78%\n",
            "Epoch 8/60 — Train 55.79%, Test 63.75%, Best 64.78%\n",
            "Epoch 9/60 — Train 57.00%, Test 64.58%, Best 64.78%\n",
            "Epoch 10/60 — Train 56.91%, Test 67.16%, Best 67.16%\n",
            "Epoch 11/60 — Train 57.63%, Test 65.66%, Best 67.16%\n",
            "Epoch 12/60 — Train 57.55%, Test 66.22%, Best 67.16%\n",
            "Epoch 13/60 — Train 58.37%, Test 67.15%, Best 67.16%\n",
            "Epoch 14/60 — Train 58.70%, Test 67.79%, Best 67.79%\n",
            "Epoch 15/60 — Train 58.87%, Test 64.81%, Best 67.79%\n",
            "Epoch 16/60 — Train 59.48%, Test 69.38%, Best 69.38%\n",
            "Epoch 17/60 — Train 59.43%, Test 67.95%, Best 69.38%\n",
            "Epoch 18/60 — Train 59.44%, Test 68.41%, Best 69.38%\n",
            "Epoch 19/60 — Train 59.40%, Test 69.17%, Best 69.38%\n",
            "Epoch 20/60 — Train 59.87%, Test 69.70%, Best 69.70%\n",
            "Epoch 21/60 — Train 63.25%, Test 71.68%, Best 71.68%\n",
            "Epoch 22/60 — Train 64.72%, Test 72.39%, Best 72.39%\n",
            "Epoch 23/60 — Train 65.57%, Test 71.97%, Best 72.39%\n",
            "Epoch 24/60 — Train 65.80%, Test 73.25%, Best 73.25%\n",
            "Epoch 25/60 — Train 65.76%, Test 73.50%, Best 73.50%\n",
            "Epoch 26/60 — Train 66.29%, Test 72.16%, Best 73.50%\n",
            "Epoch 27/60 — Train 66.53%, Test 73.86%, Best 73.86%\n",
            "Epoch 28/60 — Train 66.54%, Test 73.45%, Best 73.86%\n",
            "Epoch 29/60 — Train 66.80%, Test 74.45%, Best 74.45%\n",
            "Epoch 30/60 — Train 66.93%, Test 73.00%, Best 74.45%\n",
            "Epoch 31/60 — Train 67.05%, Test 73.48%, Best 74.45%\n",
            "Epoch 32/60 — Train 67.35%, Test 74.08%, Best 74.45%\n",
            "Epoch 33/60 — Train 67.29%, Test 73.83%, Best 74.45%\n",
            "Epoch 34/60 — Train 67.19%, Test 74.27%, Best 74.45%\n",
            "Epoch 35/60 — Train 67.48%, Test 74.10%, Best 74.45%\n",
            "Epoch 36/60 — Train 67.63%, Test 74.60%, Best 74.60%\n",
            "Epoch 37/60 — Train 67.43%, Test 75.22%, Best 75.22%\n",
            "Epoch 38/60 — Train 68.04%, Test 75.12%, Best 75.22%\n",
            "Epoch 39/60 — Train 68.05%, Test 74.77%, Best 75.22%\n",
            "Epoch 40/60 — Train 67.79%, Test 75.29%, Best 75.29%\n",
            "Epoch 41/60 — Train 70.07%, Test 76.83%, Best 76.83%\n",
            "Epoch 42/60 — Train 70.50%, Test 76.97%, Best 76.97%\n",
            "Epoch 43/60 — Train 70.83%, Test 76.88%, Best 76.97%\n",
            "Epoch 44/60 — Train 71.06%, Test 77.15%, Best 77.15%\n",
            "Epoch 45/60 — Train 71.14%, Test 77.31%, Best 77.31%\n",
            "Epoch 46/60 — Train 71.42%, Test 76.45%, Best 77.31%\n",
            "Epoch 47/60 — Train 71.46%, Test 77.45%, Best 77.45%\n",
            "Epoch 48/60 — Train 71.30%, Test 77.55%, Best 77.55%\n",
            "Epoch 49/60 — Train 71.58%, Test 77.39%, Best 77.55%\n",
            "Epoch 50/60 — Train 71.49%, Test 77.26%, Best 77.55%\n",
            "Epoch 51/60 — Train 71.54%, Test 77.61%, Best 77.61%\n",
            "Epoch 52/60 — Train 71.54%, Test 77.59%, Best 77.61%\n",
            "Epoch 53/60 — Train 71.68%, Test 77.59%, Best 77.61%\n",
            "Epoch 54/60 — Train 72.04%, Test 77.53%, Best 77.61%\n",
            "Epoch 55/60 — Train 71.94%, Test 77.32%, Best 77.61%\n",
            "Epoch 56/60 — Train 72.08%, Test 77.84%, Best 77.84%\n",
            "Epoch 57/60 — Train 72.37%, Test 77.79%, Best 77.84%\n",
            "Epoch 58/60 — Train 72.25%, Test 77.80%, Best 77.84%\n",
            "Epoch 59/60 — Train 72.01%, Test 77.66%, Best 77.84%\n",
            "Epoch 60/60 — Train 72.00%, Test 78.26%, Best 78.26%\n"
          ]
        }
      ]
    }
  ]
}