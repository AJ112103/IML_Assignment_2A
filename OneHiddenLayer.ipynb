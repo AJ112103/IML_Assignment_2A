{
  "nbformat": 4,
  "nbformat_minor": 0,
  "metadata": {
    "colab": {
      "provenance": [],
      "gpuType": "T4",
      "authorship_tag": "ABX9TyPxD8DIzhPSZ9EO/ORYIfzO",
      "include_colab_link": true
    },
    "kernelspec": {
      "name": "python3",
      "display_name": "Python 3"
    },
    "language_info": {
      "name": "python"
    },
    "accelerator": "GPU"
  },
  "cells": [
    {
      "cell_type": "markdown",
      "metadata": {
        "id": "view-in-github",
        "colab_type": "text"
      },
      "source": [
        "<a href=\"https://colab.research.google.com/github/AJ112103/IML_Assignment_2A/blob/main/OneHiddenLayer.ipynb\" target=\"_parent\"><img src=\"https://colab.research.google.com/assets/colab-badge.svg\" alt=\"Open In Colab\"/></a>"
      ]
    },
    {
      "cell_type": "code",
      "execution_count": 1,
      "metadata": {
        "id": "GJgXru3B55LP"
      },
      "outputs": [],
      "source": [
        "import torch\n",
        "import torch.nn as nn\n",
        "import torch.optim as optim\n",
        "import torchvision\n",
        "import torchvision.transforms as transforms\n",
        "import matplotlib.pyplot as plt"
      ]
    },
    {
      "cell_type": "code",
      "source": [
        "device = torch.device('cuda' if torch.cuda.is_available() else 'cpu')\n",
        "\n",
        "transform = transforms.Compose([\n",
        "    transforms.ToTensor(),\n",
        "    transforms.Normalize((0.5,0.5,0.5), (0.5,0.5,0.5))\n",
        "])\n",
        "\n",
        "trainset = torchvision.datasets.CIFAR10(root='./data', train=True,\n",
        "                                        download=True, transform=transform)\n",
        "testset  = torchvision.datasets.CIFAR10(root='./data', train=False,\n",
        "                                        download=True, transform=transform)\n",
        "trainloader = torch.utils.data.DataLoader(trainset, batch_size=128, shuffle=True)\n",
        "testloader  = torch.utils.data.DataLoader(testset,  batch_size=256, shuffle=False)"
      ],
      "metadata": {
        "colab": {
          "base_uri": "https://localhost:8080/"
        },
        "id": "CLtx580W6gwA",
        "outputId": "051ab00d-5c19-49e9-9213-017082548f69"
      },
      "execution_count": 2,
      "outputs": [
        {
          "output_type": "stream",
          "name": "stderr",
          "text": [
            "100%|██████████| 170M/170M [00:13<00:00, 12.8MB/s]\n"
          ]
        }
      ]
    },
    {
      "cell_type": "code",
      "source": [
        "class OneHiddenCIFAR(nn.Module):\n",
        "  def __init__(self, hidden_dim=256):\n",
        "    super().__init__()\n",
        "    self.fc1 = nn.Linear(3*32*32, hidden_dim)\n",
        "    self.relu = nn.ReLU(inplace=True)\n",
        "    self.fc2 = nn.Linear(hidden_dim, 10)\n",
        "\n",
        "  def forward(self, x):\n",
        "    x = x.view(x.size(0), -1)\n",
        "    h = self.relu(self.fc1(x))\n",
        "    return self.fc2(h)\n",
        "\n",
        "model = OneHiddenCIFAR(hidden_dim=256).to(device)"
      ],
      "metadata": {
        "id": "NKDWkzRM6o-T"
      },
      "execution_count": 3,
      "outputs": []
    },
    {
      "cell_type": "code",
      "source": [
        "lr = 0.05\n",
        "epochs = 50\n",
        "criterion = nn.CrossEntropyLoss()\n",
        "optimizer = optim.SGD(\n",
        "    model.parameters(),\n",
        "    lr=lr,\n",
        "    momentum=0.9,\n",
        "    weight_decay=5e-4\n",
        ")"
      ],
      "metadata": {
        "id": "DsTiX91a7-c1"
      },
      "execution_count": 5,
      "outputs": []
    },
    {
      "cell_type": "code",
      "source": [
        "train_acc = []\n",
        "test_acc  = []\n",
        "\n",
        "for epoch in range(1, epochs+1):\n",
        "    model.train()\n",
        "    correct = total = 0\n",
        "    for inputs, labels in trainloader:\n",
        "        inputs, labels = inputs.to(device), labels.to(device)\n",
        "        optimizer.zero_grad()\n",
        "        outputs = model(inputs)\n",
        "        loss = criterion(outputs, labels)\n",
        "        loss.backward()\n",
        "        optimizer.step()\n",
        "        _, preds = outputs.max(1)\n",
        "        correct += (preds == labels).sum().item()\n",
        "        total += labels.size(0)\n",
        "    train_acc.append(correct/total)\n",
        "\n",
        "    model.eval()\n",
        "    correct = total = 0\n",
        "    with torch.no_grad():\n",
        "        for inputs, labels in testloader:\n",
        "            inputs, labels = inputs.to(device), labels.to(device)\n",
        "            outputs = model(inputs)\n",
        "            _, preds = outputs.max(1)\n",
        "            correct += (preds == labels).sum().item()\n",
        "            total += labels.size(0)\n",
        "    test_acc.append(correct/total)\n",
        "\n",
        "    print(f\"Epoch {epoch}/{epochs} — Train {train_acc[-1]*100:.2f}%, Test {test_acc[-1]*100:.2f}%\")"
      ],
      "metadata": {
        "colab": {
          "base_uri": "https://localhost:8080/"
        },
        "id": "NFm9UYqj8QbI",
        "outputId": "8dc28300-5d45-4c03-f2aa-3fc8b3833c82"
      },
      "execution_count": 6,
      "outputs": [
        {
          "output_type": "stream",
          "name": "stdout",
          "text": [
            "Epoch 1/50 — Train 38.96%, Test 43.04%\n",
            "Epoch 2/50 — Train 44.41%, Test 44.52%\n",
            "Epoch 3/50 — Train 47.24%, Test 44.07%\n",
            "Epoch 4/50 — Train 48.75%, Test 46.26%\n",
            "Epoch 5/50 — Train 50.03%, Test 46.11%\n",
            "Epoch 6/50 — Train 51.32%, Test 46.33%\n",
            "Epoch 7/50 — Train 52.37%, Test 48.09%\n",
            "Epoch 8/50 — Train 53.14%, Test 46.85%\n",
            "Epoch 9/50 — Train 53.59%, Test 46.11%\n",
            "Epoch 10/50 — Train 54.59%, Test 47.36%\n",
            "Epoch 11/50 — Train 54.71%, Test 46.54%\n",
            "Epoch 12/50 — Train 55.77%, Test 46.92%\n",
            "Epoch 13/50 — Train 55.83%, Test 47.55%\n",
            "Epoch 14/50 — Train 56.68%, Test 46.45%\n",
            "Epoch 15/50 — Train 56.92%, Test 49.62%\n",
            "Epoch 16/50 — Train 57.68%, Test 47.48%\n",
            "Epoch 17/50 — Train 57.47%, Test 47.89%\n",
            "Epoch 18/50 — Train 57.99%, Test 48.70%\n",
            "Epoch 19/50 — Train 58.10%, Test 47.00%\n",
            "Epoch 20/50 — Train 58.86%, Test 47.70%\n",
            "Epoch 21/50 — Train 58.97%, Test 48.55%\n",
            "Epoch 22/50 — Train 58.99%, Test 48.97%\n",
            "Epoch 23/50 — Train 59.32%, Test 48.40%\n",
            "Epoch 24/50 — Train 59.75%, Test 47.63%\n",
            "Epoch 25/50 — Train 59.78%, Test 48.45%\n",
            "Epoch 26/50 — Train 59.72%, Test 45.71%\n",
            "Epoch 27/50 — Train 59.80%, Test 47.20%\n",
            "Epoch 28/50 — Train 59.98%, Test 48.38%\n",
            "Epoch 29/50 — Train 60.32%, Test 46.83%\n",
            "Epoch 30/50 — Train 60.17%, Test 47.60%\n",
            "Epoch 31/50 — Train 60.41%, Test 48.14%\n",
            "Epoch 32/50 — Train 60.53%, Test 47.01%\n",
            "Epoch 33/50 — Train 60.76%, Test 48.36%\n",
            "Epoch 34/50 — Train 60.14%, Test 46.49%\n",
            "Epoch 35/50 — Train 60.92%, Test 48.13%\n",
            "Epoch 36/50 — Train 60.78%, Test 49.11%\n",
            "Epoch 37/50 — Train 61.22%, Test 47.79%\n",
            "Epoch 38/50 — Train 61.32%, Test 46.20%\n",
            "Epoch 39/50 — Train 61.70%, Test 48.74%\n",
            "Epoch 40/50 — Train 61.33%, Test 49.77%\n",
            "Epoch 41/50 — Train 61.66%, Test 48.37%\n",
            "Epoch 42/50 — Train 60.95%, Test 47.79%\n",
            "Epoch 43/50 — Train 61.65%, Test 46.92%\n",
            "Epoch 44/50 — Train 61.90%, Test 48.37%\n",
            "Epoch 45/50 — Train 61.53%, Test 47.61%\n",
            "Epoch 46/50 — Train 61.31%, Test 47.44%\n",
            "Epoch 47/50 — Train 61.48%, Test 48.48%\n",
            "Epoch 48/50 — Train 62.52%, Test 47.55%\n",
            "Epoch 49/50 — Train 62.22%, Test 48.28%\n",
            "Epoch 50/50 — Train 61.92%, Test 47.93%\n"
          ]
        }
      ]
    }
  ]
}